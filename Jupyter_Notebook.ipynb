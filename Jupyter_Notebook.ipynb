{
 "cells": [
  {
   "cell_type": "markdown",
   "metadata": {},
   "source": [
    "<center>\n",
    "    <img src=\"https://cf-courses-data.s3.us.cloud-object-storage.appdomain.cloud/IBMDeveloperSkillsNetwork-DS0105EN-SkillsNetwork/labs/Module2/images/SN_web_lightmode.png\" width=\"300\" alt=\"cognitiveclass.ai logo\">\n",
    "</center>\n"
   ]
  },
  {
   "cell_type": "markdown",
   "metadata": {},
   "source": [
    "#### Add your code below following the instructions given in the course\n"
   ]
  },
  {
   "cell_type": "markdown",
   "metadata": {},
   "source": [
    "# Title of the Notebook"
   ]
  },
  {
   "cell_type": "markdown",
   "metadata": {},
   "source": [
    "## Introduction to Data Science\n",
    "\n",
    "Welcome to this notebook on data science! Data science is an interdisciplinary field that combines techniques from statistics, computer science, and domain expertise to extract insights and knowledge from data. It involves collecting, cleaning, analyzing, and visualizing data to uncover patterns, make predictions, and inform decision-making.\n",
    "\n",
    "In this notebook, we will embark on a journey to explore the fundamentals of data science. We'll learn about data manipulation, statistical analysis, machine learning algorithms, and data visualization techniques. By the end of our exploration, you'll have a solid foundation in the principles and tools of data science.\n",
    "\n",
    "Whether you're a beginner eager to learn or an experienced practitioner looking to deepen your understanding, there's something here for everyone. Let's dive into the exciting world of data science!\n"
   ]
  },
  {
   "cell_type": "markdown",
   "metadata": {},
   "source": [
    "## Data Science Languages\n",
    "\n",
    "In the field of data science, various programming languages are commonly used for data manipulation, analysis, and visualization. Some of the most prominent languages include:\n",
    "\n",
    "- **Python**: Widely regarded as the most popular language for data science due to its versatility, extensive libraries (such as NumPy, Pandas, and Scikit-learn), and ease of learning.\n",
    "  \n",
    "- **R**: Specifically designed for statistical computing and graphics, R is favored by many statisticians and data analysts for its powerful data visualization capabilities and comprehensive statistical packages.\n",
    "\n",
    "- **SQL (Structured Query Language)**: Essential for working with relational databases, SQL is used to query, manipulate, and manage structured data, making it a fundamental skill for data professionals.\n",
    "\n",
    "- **Julia**: Known for its high performance and mathematical syntax, Julia is gaining popularity in the data science community, particularly for tasks that require complex numerical computations.\n",
    "\n",
    "- **Java**: Although not as commonly associated with data science as Python or R, Java is still widely used in enterprise environments for building scalable, high-performance data processing systems.\n",
    "\n",
    "- **Scala**: Scala, with its strong support for functional programming and compatibility with Java, is often chosen for large-scale data processing tasks, especially in conjunction with Apache Spark.\n",
    "\n",
    "- **C++**: Known for its speed and efficiency, C++ is sometimes used in data science for performance-critical applications or when integration with existing C++ codebases is necessary.\n",
    "\n",
    "These languages, along with others, play crucial roles in the data science workflow, offering a wide range of tools and libraries to tackle various data-related challenges.\n"
   ]
  },
  {
   "cell_type": "markdown",
   "metadata": {},
   "source": [
    "## Data Science Libraries\n",
    "\n",
    "In the field of data science, numerous libraries and frameworks are available to streamline various tasks, from data manipulation to machine learning model development. Some of the most commonly used libraries include:\n",
    "\n",
    "- **NumPy**: A fundamental package for scientific computing with Python, providing support for multidimensional arrays, mathematical functions, and linear algebra operations.\n",
    "\n",
    "- **Pandas**: Built on top of NumPy, Pandas offers data structures and tools for data manipulation and analysis, particularly for structured data such as tabular data.\n",
    "\n",
    "- **Matplotlib**: A versatile plotting library for creating static, interactive, and animated visualizations in Python.\n",
    "\n",
    "- **Seaborn**: Built on top of Matplotlib, Seaborn provides a high-level interface for drawing attractive and informative statistical graphics.\n",
    "\n",
    "- **Scikit-learn**: A comprehensive machine learning library for Python, offering tools for classification, regression, clustering, dimensionality reduction, and more.\n",
    "\n",
    "- **TensorFlow**: Developed by Google Brain, TensorFlow is an open-source machine learning framework for building and training neural networks, particularly deep learning models.\n",
    "\n",
    "- **PyTorch**: Developed by Facebook's AI Research lab, PyTorch is another popular deep learning framework known for its dynamic computational graph and ease of use.\n",
    "\n",
    "- **SciPy**: A collection of mathematical algorithms and convenience functions built on top of NumPy, providing additional functionality for optimization, integration, interpolation, and more.\n",
    "\n",
    "- **Statsmodels**: A Python library for estimating and interpreting statistical models, including regression analysis, time-series analysis, and hypothesis testing.\n",
    "\n",
    "- **Keras**: A high-level neural networks API written in Python, Keras provides an intuitive interface for building and training deep learning models, with support for TensorFlow and other backends.\n",
    "\n",
    "These libraries, along with others, form the backbone of the data science ecosystem, enabling practitioners to efficiently analyze data, develop predictive models, and derive insights from complex datasets.\n"
   ]
  },
  {
   "cell_type": "markdown",
   "metadata": {},
   "source": [
    "## Data Science Tools\n",
    "\n",
    "| Category          | Tools                                |\n",
    "|-------------------|--------------------------------------|\n",
    "| Programming Languages | Python, R, SQL, Julia, Java, Scala, C++ |\n",
    "| Data Manipulation   | Pandas, dplyr, data.table           |\n",
    "| Data Visualization | Matplotlib, Seaborn, ggplot2, Plotly |\n",
    "| Machine Learning   | Scikit-learn, TensorFlow, PyTorch, XGBoost |\n",
    "| Statistical Analysis | Statsmodels, scipy, NumPy           |\n",
    "| Big Data Processing | Apache Spark, Hadoop, Kafka         |\n",
    "| Data Mining        | Weka, RapidMiner, KNIME             |\n",
    "| Database Management | MySQL, PostgreSQL, MongoDB          |\n",
    "| Version Control    | Git, GitHub, GitLab, Bitbucket      |\n",
    "| IDEs/Editors       | Jupyter Notebook, RStudio, PyCharm  |\n",
    "| Cloud Platforms    | Google Cloud Platform, AWS, Azure    |\n",
    "| Data Cleaning      | OpenRefine, Trifacta, pandas        |\n",
    "\n",
    "This table provides an overview of various tools commonly used in different aspects of data science, including programming languages, data manipulation, visualization, machine learning, statistical analysis, big data processing, database management, version control, integrated development environments (IDEs), cloud platforms, and data cleaning.\n"
   ]
  },
  {
   "cell_type": "markdown",
   "metadata": {},
   "source": [
    "## Introduction to Arithmetic Expression Examples\n",
    "\n",
    "Arithmetic expressions are fundamental in mathematics and programming, serving as the building blocks for calculations and computations. These expressions typically involve operators such as addition (+), subtraction (-), multiplication (*), and division (/), along with parentheses to specify the order of operations.\n",
    "\n",
    "In this section, we'll explore various arithmetic expression examples to demonstrate how different operations can be performed and how they can be combined to solve mathematical problems. We'll cover basic arithmetic operations as well as more complex expressions involving multiple operators and parentheses.\n",
    "\n",
    "By understanding and mastering arithmetic expressions, you'll develop essential skills that are applicable across various fields, from basic mathematics to computer programming and data analysis. So let's dive in and explore some examples!\n"
   ]
  },
  {
   "cell_type": "code",
   "execution_count": 1,
   "metadata": {
    "tags": []
   },
   "outputs": [
    {
     "name": "stdout",
     "output_type": "stream",
     "text": [
      "Result 1: 8\n",
      "Result 2: 6\n",
      "Result 3: 12\n",
      "Result 4: 4.0\n",
      "Result 5: 25\n",
      "Result 6: 3\n",
      "Result 7: 3\n",
      "Result 8: 8\n"
     ]
    }
   ],
   "source": [
    "# Basic Arithmetic Expressions\n",
    "result1 = 5 + 3  # Addition\n",
    "result2 = 10 - 4  # Subtraction\n",
    "result3 = 6 * 2  # Multiplication\n",
    "result4 = 20 / 5  # Division\n",
    "\n",
    "# Complex Arithmetic Expressions\n",
    "result5 = (4 + 5) * 3 - 2  # With Parentheses\n",
    "result6 = 15 // 4  # Floor Division\n",
    "result7 = 15 % 4  # Modulo (Remainder)\n",
    "result8 = 2 ** 3  # Exponentiation\n",
    "\n",
    "# Displaying Results\n",
    "print(\"Result 1:\", result1)\n",
    "print(\"Result 2:\", result2)\n",
    "print(\"Result 3:\", result3)\n",
    "print(\"Result 4:\", result4)\n",
    "print(\"Result 5:\", result5)\n",
    "print(\"Result 6:\", result6)\n",
    "print(\"Result 7:\", result7)\n",
    "print(\"Result 8:\", result8)"
   ]
  },
  {
   "cell_type": "code",
   "execution_count": 2,
   "metadata": {
    "tags": []
   },
   "outputs": [
    {
     "name": "stdout",
     "output_type": "stream",
     "text": [
      "Result of multiplication: 50\n",
      "Result of addition: 50\n"
     ]
    }
   ],
   "source": [
    "# Multiplication\n",
    "result_multiply = 5 * 10\n",
    "\n",
    "# Addition\n",
    "result_add = 20 + 30\n",
    "\n",
    "# Displaying Results\n",
    "print(\"Result of multiplication:\", result_multiply)\n",
    "print(\"Result of addition:\", result_add)\n"
   ]
  },
  {
   "cell_type": "code",
   "execution_count": 3,
   "metadata": {
    "tags": []
   },
   "outputs": [
    {
     "name": "stdout",
     "output_type": "stream",
     "text": [
      "Number of hours: 2.5\n"
     ]
    }
   ],
   "source": [
    "# Number of minutes\n",
    "minutes = 150\n",
    "\n",
    "# Convert minutes to hours\n",
    "hours = minutes / 60\n",
    "\n",
    "# Displaying Result\n",
    "print(\"Number of hours:\", hours)\n"
   ]
  },
  {
   "cell_type": "markdown",
   "metadata": {},
   "source": [
    "## Objectives\n",
    "\n",
    "In this notebook, we aim to achieve the following objectives:\n",
    "\n",
    "1. Introduce fundamental concepts of arithmetic expressions and operators.\n",
    "2. Demonstrate basic arithmetic operations such as addition, subtraction, multiplication, and division.\n",
    "3. Explore more complex expressions involving parentheses, floor division, modulo, and exponentiation.\n",
    "4. Provide examples of arithmetic expressions using Python code.\n",
    "5. Illustrate the practical applications of arithmetic expressions in solving mathematical problems and performing calculations.\n",
    "6. Enhance understanding and mastery of arithmetic expressions for various fields, including mathematics, programming, and data analysis.\n",
    "7. Learn about data science tools, machine learning, and programming language for data science\n"
   ]
  },
  {
   "cell_type": "markdown",
   "metadata": {},
   "source": [
    "## Author\n",
    "\n",
    "This notebook was authored by Minan Abdillah.\n"
   ]
  }
 ],
 "metadata": {
  "kernelspec": {
   "display_name": "Python",
   "language": "python",
   "name": "conda-env-python-py"
  },
  "language_info": {
   "codemirror_mode": {
    "name": "ipython",
    "version": 3
   },
   "file_extension": ".py",
   "mimetype": "text/x-python",
   "name": "python",
   "nbconvert_exporter": "python",
   "pygments_lexer": "ipython3",
   "version": "3.7.12"
  }
 },
 "nbformat": 4,
 "nbformat_minor": 4
}
